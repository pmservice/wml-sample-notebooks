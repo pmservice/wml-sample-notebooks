{
    "nbformat_minor": 1,
    "cells": [
        {
            "source": "<table style=\"border: none\" align=\"left\">\n    <tr style=\"border: none\">\n       <th style=\"border: none\"><img src=\"https://raw.githubusercontent.com/pmservice/cars-4-you/master/static/images/logo.png\" width=\"200\" alt=\"Icon\"></th>\n       <th style=\"border: none\"><font face=\"verdana\" size=\"5\" color=\"black\"><b>Area and Action - AI function</b></th>\n   </tr>\n</table>",
            "cell_type": "markdown",
            "metadata": {}
        },
        {
            "source": "\n<img align=left src=\"https://github.com/pmservice/cars-4-you/raw/master/static/images/ai_function.png\" alt=\"Icon\" width=\"618\"> \n",
            "cell_type": "markdown",
            "metadata": {}
        },
        {
            "source": "AI function with logic to sequentially call two models: BUSINESS_AREA and ACTION.",
            "cell_type": "markdown",
            "metadata": {}
        },
        {
            "source": "Contents\n\n- [0. Setup](#setup)\n- [1. Itroduction](#introduction)\n- [2. Define AI function](#ai_function)\n- [3. Store the AI function in the repository](#persistence)\n- [4. Deploy AI function](#deploy)",
            "cell_type": "markdown",
            "metadata": {}
        },
        {
            "source": "<a id=\"setup\"></a>\n## 0. Setup\n\nIn this section please use below cell to upgrade the `watson-machine-learning-client`.",
            "cell_type": "markdown",
            "metadata": {}
        },
        {
            "source": "!rm -rf $PIP_BUILD/watson-machine-learning-client\n!pip install --upgrade watson-machine-learning-client==1.0.277",
            "cell_type": "code",
            "metadata": {},
            "outputs": [
                {
                    "output_type": "stream",
                    "name": "stdout",
                    "text": "Requirement already up-to-date: watson-machine-learning-client==1.0.260 in /opt/conda/envs/DSX-Python35/lib/python3.5/site-packages\nRequirement not upgraded as not directly required: requests in /opt/conda/envs/DSX-Python35/lib/python3.5/site-packages (from watson-machine-learning-client==1.0.260)\nRequirement not upgraded as not directly required: lomond in /opt/conda/envs/DSX-Python35/lib/python3.5/site-packages (from watson-machine-learning-client==1.0.260)\nRequirement not upgraded as not directly required: pandas in /opt/conda/envs/DSX-Python35/lib/python3.5/site-packages (from watson-machine-learning-client==1.0.260)\nRequirement not upgraded as not directly required: certifi in /opt/conda/envs/DSX-Python35/lib/python3.5/site-packages (from watson-machine-learning-client==1.0.260)\nRequirement not upgraded as not directly required: urllib3 in /opt/conda/envs/DSX-Python35/lib/python3.5/site-packages (from watson-machine-learning-client==1.0.260)\nRequirement not upgraded as not directly required: tqdm in /opt/conda/envs/DSX-Python35/lib/python3.5/site-packages (from watson-machine-learning-client==1.0.260)\nRequirement not upgraded as not directly required: ibm-cos-sdk in /opt/conda/envs/DSX-Python35/lib/python3.5/site-packages (from watson-machine-learning-client==1.0.260)\nRequirement not upgraded as not directly required: tabulate in /opt/conda/envs/DSX-Python35/lib/python3.5/site-packages (from watson-machine-learning-client==1.0.260)\nRequirement not upgraded as not directly required: chardet<3.1.0,>=3.0.2 in /opt/conda/envs/DSX-Python35/lib/python3.5/site-packages (from requests->watson-machine-learning-client==1.0.260)\nRequirement not upgraded as not directly required: idna<2.7,>=2.5 in /opt/conda/envs/DSX-Python35/lib/python3.5/site-packages (from requests->watson-machine-learning-client==1.0.260)\nRequirement not upgraded as not directly required: six>=1.10.0 in /opt/conda/envs/DSX-Python35/lib/python3.5/site-packages (from lomond->watson-machine-learning-client==1.0.260)\nRequirement not upgraded as not directly required: python-dateutil>=2 in /opt/conda/envs/DSX-Python35/lib/python3.5/site-packages (from pandas->watson-machine-learning-client==1.0.260)\nRequirement not upgraded as not directly required: pytz>=2011k in /opt/conda/envs/DSX-Python35/lib/python3.5/site-packages (from pandas->watson-machine-learning-client==1.0.260)\nRequirement not upgraded as not directly required: numpy>=1.9.0 in /opt/conda/envs/DSX-Python35/lib/python3.5/site-packages (from pandas->watson-machine-learning-client==1.0.260)\nRequirement not upgraded as not directly required: ibm-cos-sdk-s3transfer==2.*,>=2.0.0 in /opt/conda/envs/DSX-Python35/lib/python3.5/site-packages (from ibm-cos-sdk->watson-machine-learning-client==1.0.260)\nRequirement not upgraded as not directly required: ibm-cos-sdk-core==2.*,>=2.0.0 in /opt/conda/envs/DSX-Python35/lib/python3.5/site-packages (from ibm-cos-sdk->watson-machine-learning-client==1.0.260)\nRequirement not upgraded as not directly required: jmespath<1.0.0,>=0.7.1 in /opt/conda/envs/DSX-Python35/lib/python3.5/site-packages (from ibm-cos-sdk-core==2.*,>=2.0.0->ibm-cos-sdk->watson-machine-learning-client==1.0.260)\nRequirement not upgraded as not directly required: docutils>=0.10 in /opt/conda/envs/DSX-Python35/lib/python3.5/site-packages (from ibm-cos-sdk-core==2.*,>=2.0.0->ibm-cos-sdk->watson-machine-learning-client==1.0.260)\n"
                }
            ],
            "execution_count": 1
        },
        {
            "source": "<a id=\"introduction\"></a>\n## 1. Introduction\n\nModels to predict Business Area and Action based on client feedback will be embeded into AI function. An example of payload logging using AI function will be introduced.",
            "cell_type": "markdown",
            "metadata": {}
        },
        {
            "source": "<a id=\"ai_function\"></a>\n## 2. Define AI function",
            "cell_type": "markdown",
            "metadata": {}
        },
        {
            "source": "In this section we define AI function and test it locally.",
            "cell_type": "markdown",
            "metadata": {}
        },
        {
            "source": "### Template\n\nWe start with template version of AI function to present its structure in simplest case.",
            "cell_type": "markdown",
            "metadata": {}
        },
        {
            "source": "    # Template version\n\n    def score_template(payload):\n        \"\"\"AI function example.\n\n        # Here we present data schema to be used by function:\n        Example:\n          {\n            \"fields\": [\"Gender\", \"Status\", \"Children\", \"Age\", \"Customer_Status\"],\n            \"values\": [\n              [\"Male\", \"M\", 2, 48, \"Inactive\"],\n              [\"Female\", \"S\", 0, 23, \"Inactive\"]\n            ]\n          }\n        \"\"\"\n        fields = payload['fields'] + ['Prediction', 'Probability']\n        values = [record + [int(record[0] == 'Male'), 0.9] for record in payload['values']]\n        return { 'fields': fields, 'values': values }\n\n    template_payload = {\"fields\": [],\n                        \"values\": [[\"Male\", \"M\", 2, 48, \"Inactive\"], [\"Female\", \"S\", 0, 23, \"Inactive\"]]}\n\n    print(score_template(template_payload))",
            "cell_type": "markdown",
            "metadata": {}
        },
        {
            "source": "### Deployed models metadata extraction\n\nWe have to identify model deployments to be used before we define AI function. We extract scoring url and information about model version.",
            "cell_type": "markdown",
            "metadata": {}
        },
        {
            "source": "from watson_machine_learning_client import WatsonMachineLearningAPIClient",
            "cell_type": "code",
            "metadata": {},
            "outputs": [
                {
                    "output_type": "stream",
                    "name": "stderr",
                    "text": "2018-07-25 09:18:56,417 - watson_machine_learning_client.wml_client_error - WARNING - Failure during scoring. (POST https://us-south.ml.cloud.ibm.com/v3/wml_instances/000263d8-04e0-4060-ad69-fcfe40069018/deployments/e2b5927f-9a0d-49dc-b731-39272f08b6bb/online)\nStatus code: 400, body: {\n  \"trace\": \"1d2b26da3128fe8e81b5956956655b37\",\n  \"errors\": [{\n    \"code\": \"invalid_payload\",\n    \"message\": \"Input Json parsing failed with error: invalid field: Business_Area\"\n  }]\n}\n2018-07-25 09:19:58,125 - watson_machine_learning_client.wml_client_error - WARNING - Failure during scoring. (POST https://us-south.ml.cloud.ibm.com/v3/wml_instances/000263d8-04e0-4060-ad69-fcfe40069018/deployments/e2b5927f-9a0d-49dc-b731-39272f08b6bb/online)\nStatus code: 400, body: {\n  \"trace\": \"dd0c563bceae5b91bd3632472ad04a02\",\n  \"errors\": [{\n    \"code\": \"invalid_payload\",\n    \"message\": \"Input Json parsing failed with error: struct already has field: Business_Area\"\n  }]\n}\n2018-07-25 09:25:54,658 - watson_machine_learning_client.wml_client_error - WARNING - Failure during scoring. (POST https://us-south.ml.cloud.ibm.com/v3/wml_instances/000263d8-04e0-4060-ad69-fcfe40069018/deployments/e2b5927f-9a0d-49dc-b731-39272f08b6bb/online)\nStatus code: 400, body: {\n  \"trace\": \"ad6d81da5ada90ba743171226e32ed3f\",\n  \"errors\": [{\n    \"code\": \"invalid_payload\",\n    \"message\": \"Input Json parsing failed with error: struct already has field: label\"\n  }]\n}\n"
                }
            ],
            "execution_count": 2
        },
        {
            "source": "# @hidden_cell\n# How to get associated service credentials\n\nwml_credentials = {\n  \"instance_id\": \"000263d8-04e0-4060-ad69-fcfe40069018\",\n  \"password\": \"7419325b-3de4-476c-94cb-4b158fa335b0\",\n  \"url\": \"https://us-south.ml.cloud.ibm.com\",\n  \"username\": \"cdc4b5da-8380-42f1-bd82-da044b283959\"\n}",
            "cell_type": "code",
            "metadata": {},
            "outputs": [],
            "execution_count": 3
        },
        {
            "source": "client = WatsonMachineLearningAPIClient(wml_credentials)",
            "cell_type": "code",
            "metadata": {},
            "outputs": [],
            "execution_count": 4
        },
        {
            "source": "We list all deployed models predicting `Action` and `Business Area` to select one to be used in the AI function.",
            "cell_type": "markdown",
            "metadata": {}
        },
        {
            "source": "client.deployments.list()",
            "cell_type": "code",
            "metadata": {},
            "outputs": [
                {
                    "output_type": "stream",
                    "name": "stdout",
                    "text": "------------------------------------  ---------------------------------------------------------------------  ------  --------------  ------------------------  --------------  ----------\nGUID                                  NAME                                                                   TYPE    STATE           CREATED                   FRAMEWORK       ASSET TYPE\ne2b5927f-9a0d-49dc-b731-39272f08b6bb  CARS4U - Action Model Deployment                                       online  DEPLOY_SUCCESS  2018-07-25T08:49:12.081Z  mllib-2.1       model\n9cfa6455-bba2-4cf3-bb71-e534c514dede  CARS4U - Business area and Action Prediction - AI Function Deployment  online  DEPLOY_SUCCESS  2018-07-25T07:18:24.455Z  n/a             function\nd3b1a95b-1550-49ea-b6ee-4e1d75bca02e  CARS4U - Business area and Action Prediction - AI Function Deployment  online  DEPLOY_SUCCESS  2018-07-25T06:52:23.826Z  n/a             function\n20b44d48-09e0-422c-9f86-ba61fd124836  CARS4U - Business area and Action Prediction - AI Function Deployment  online  DEPLOY_SUCCESS  2018-07-25T06:20:03.776Z  n/a             function\naeb667ed-5070-4c88-b12f-333e1325d1ad  CARS4U - Sentiment Prediction - AI Function Deployment                 online  DEPLOY_SUCCESS  2018-07-24T14:49:53.306Z  n/a             function\nb60d035e-fbd1-42e7-81f6-0c918d6bfa42  CARS4U - Business area and Action Prediction - AI Function Deployment  online  DEPLOY_SUCCESS  2018-07-24T13:48:37.871Z  n/a             function\ndfb792bd-c11f-4050-93d7-34cb0c91fe87  CARS4U - Sentiment Prediction - AI Function Deployment                 online  DEPLOY_SUCCESS  2018-07-24T13:41:49.123Z  n/a             function\n4754aa03-bd0f-49b3-836a-835ed6d3bc67  CARS4U - Sentiment Prediction - AI Function Deployment                 online  DEPLOY_SUCCESS  2018-07-24T13:38:37.692Z  n/a             function\nd8b4dcbd-70c2-4901-9618-3ba28cc7bdca  CARS4U - Business area and Action Prediction - AI Function Deployment  online  DEPLOY_SUCCESS  2018-07-24T13:16:28.453Z  n/a             function\n56f494e5-d923-422c-b688-68f7324867f3  CARS4U - Business area and Action Prediction - AI Function Deployment  online  DEPLOY_FAILURE  2018-07-24T13:11:20.100Z  n/a             function\n505e603d-5574-4a68-bc46-bf95db85db82  CARS4U - Sentiment Prediction - AI Function Deployment                 online  DEPLOY_SUCCESS  2018-07-24T12:05:09.265Z  n/a             function\nc379de8d-d78b-45d8-b9f8-e19a1e28827a  Car Rental Deployment - Business Area                                  online  DEPLOY_SUCCESS  2018-07-24T12:04:34.695Z  mllib-2.1       model\n51d847b8-b226-4598-9da3-8b409da81426  CARS4U - Sentiment Prediction - AI Function Deployment                 online  DEPLOY_SUCCESS  2018-07-24T11:59:29.680Z  n/a             function\n726e333a-73a2-4720-b249-3be832903b4e  CARS4U - Satisfaction Prediction Model Deployment                      online  DEPLOY_SUCCESS  2018-07-24T09:49:11.282Z  tensorflow-1.5  model\nb344d58c-590d-4a93-a007-23693947ce31  CARS4U - Business Area Prediction Model Deployment                     online  DEPLOY_SUCCESS  2018-07-24T09:47:40.251Z  mllib-2.1       model\n------------------------------------  ---------------------------------------------------------------------  ------  --------------  ------------------------  --------------  ----------\n"
                }
            ],
            "execution_count": 5
        },
        {
            "source": "We select deployed model to predict `Business Area` and model to recommend `Action`. We have to extract scoring endpoints for two models.",
            "cell_type": "markdown",
            "metadata": {}
        },
        {
            "source": "deployments = client.deployments.get_details()['resources']\n\nfor x in deployments:\n    if (x['entity']['name'] == 'CARS4U - Action Model Deployment'):\n        action_scoring_url = client.deployments.get_scoring_url(x)\n    if (x['entity']['name'] == 'CARS4U - Business Area Prediction Model Deployment'):\n        business_area_scoring_url = client.deployments.get_scoring_url(x)\n        \nprint(\"Action url: \", action_scoring_url)\nprint(\"Business area url: \", business_area_scoring_url)",
            "cell_type": "code",
            "metadata": {},
            "outputs": [
                {
                    "output_type": "stream",
                    "name": "stdout",
                    "text": "Action url:  https://us-south.ml.cloud.ibm.com/v3/wml_instances/000263d8-04e0-4060-ad69-fcfe40069018/deployments/e2b5927f-9a0d-49dc-b731-39272f08b6bb/online\nBusiness area url:  https://us-south.ml.cloud.ibm.com/v3/wml_instances/000263d8-04e0-4060-ad69-fcfe40069018/deployments/b344d58c-590d-4a93-a007-23693947ce31/online\n"
                }
            ],
            "execution_count": 6
        },
        {
            "source": "### AI function definition\n\nWe define AI function to be deployed in the IBM Cloud.",
            "cell_type": "markdown",
            "metadata": {}
        },
        {
            "source": "Put all parameters required to define AI function in dictionary.",
            "cell_type": "markdown",
            "metadata": {}
        },
        {
            "source": "ai_params = {\"wml_credentials\": wml_credentials, \n             \"business_area_scoring_url\": business_area_scoring_url, \n             \"action_scoring_url\": action_scoring_url}",
            "cell_type": "code",
            "metadata": {},
            "outputs": [],
            "execution_count": 7
        },
        {
            "source": "def score_generator(params=ai_params):\n    \n    from watson_machine_learning_client import WatsonMachineLearningAPIClient\n\n    wml_credentials = params[\"wml_credentials\"]\n    business_area_scoring_url = params[\"business_area_scoring_url\"]\n    action_scoring_url = params[\"action_scoring_url\"]\n\n    client = WatsonMachineLearningAPIClient(wml_credentials)\n\n    def score(payload):\n        \"\"\"AI function with model version.\n\n        Example:\n          {\"fields\": [\"ID\", \"Gender\", \"Status\", \"Children\", \"Age\", \"Customer_Status\", \"Car_Owner\", \"Customer_Service\", \"Satisfaction\"],\n           \"values\": [[2624, 'Male', 'S', 0, 49.27, 'Active', 'No', \"Good experience with all the rental co.'s I contacted. I Just called with rental dates and received pricing and selected rental co.\", 1]]}\n        \"\"\"\n        \n        scores_area = client.deployments.score(business_area_scoring_url, payload)\n        idx_area = [i for i, x in enumerate(scores_area[\"fields\"]) if (x == 'probability') or (x == 'predictedLabel')]\n\n        fields_from_action = payload[\"fields\"] + [\"predictedLabel\"]\n        idx_from_action = set([i for i, x in enumerate(scores_area[\"fields\"]) if x in fields_from_action])\n        values_action = [[v for i, v in enumerate(rec) if i in idx_from_action] for rec in scores_area[\"values\"]]\n        \n        payload_action = {\"fields\": payload[\"fields\"] + [\"Business_Area\"], \n                          \"values\": values_action}\n        \n        scores_action = client.deployments.score(action_scoring_url, payload_action)\n        idx_action = [i for i, x in enumerate(scores_action[\"fields\"]) if (x == 'probability') or (x == 'predictedLabel')]\n\n        values = [rec + [scores_area['values'][i][idx_area[0]], scores_area['values'][i][idx_area[1]], scores_action['values'][i][idx_action[0]], scores_action['values'][i][idx_action[1]]] for i, rec in enumerate(payload['values'])]\n\n        fields = payload['fields'] + ['Probability_Area', 'Prediction_Area'] + ['Probability_Action', 'Prediction_Action']\n\n        return {'fields': fields, 'values': values}\n\n    return score",
            "cell_type": "code",
            "metadata": {},
            "outputs": [],
            "execution_count": 20
        },
        {
            "source": "### AI function local test\n\nLet's test defined AI function in notebook before we deploy it in the IBM Cloud. We start with preparing sample payload for `score` function.",
            "cell_type": "markdown",
            "metadata": {}
        },
        {
            "source": "sample_payload = {\"fields\": [\"ID\", \"Gender\", \"Status\", \"Children\", \"Age\", \"Customer_Status\", \"Car_Owner\", \"Customer_Service\", \"Satisfaction\"],\n                  \"values\": [[2624, 'Male', 'S', 0, 49.27, 'Active', 'No', \"Good experience with all the rental co.'s I contacted. I Just called with rental dates and received pricing and selected rental co.\", 1]]}       ",
            "cell_type": "code",
            "metadata": {},
            "outputs": [],
            "execution_count": 21
        },
        {
            "source": "Let's test AI function locally before we deploy it to the IBM Cloud.",
            "cell_type": "markdown",
            "metadata": {}
        },
        {
            "source": "score = score_generator()\nscores_ai = score(sample_payload)\nprint(scores_ai)",
            "cell_type": "code",
            "metadata": {},
            "outputs": [
                {
                    "output_type": "stream",
                    "name": "stdout",
                    "text": "{'fields': ['ID', 'Gender', 'Status', 'Children', 'Age', 'Customer_Status', 'Car_Owner', 'Customer_Service', 'Satisfaction', 'Probability_Area', 'Prediction_Area', 'Probability_Action', 'Prediction_Action'], 'values': [[2624, 'Male', 'S', 0, 49.27, 'Active', 'No', \"Good experience with all the rental co.'s I contacted. I Just called with rental dates and received pricing and selected rental co.\", 1, [0.3923076923076923, 0.3153846153846154, 0.046153846153846156, 0.06923076923076923, 0.05384615384615385, 0.06153846153846154, 0.038461538461538464, 0.023076923076923078], 'Service: Knowledge', [1.0, 0.0, 0.0, 0.0, 0.0], 'NA']]}\n"
                }
            ],
            "execution_count": 22
        },
        {
            "source": "<a id=\"persistence\"></a>\n## 3. Store the AI function in the repository",
            "cell_type": "markdown",
            "metadata": {}
        },
        {
            "source": "In this section we store AI function to Watson machine Learning repository.",
            "cell_type": "markdown",
            "metadata": {}
        },
        {
            "source": "function_details = client.repository.store_function(score_generator, 'CARS4U - Business area and Action Prediction - AI Function')",
            "cell_type": "code",
            "metadata": {},
            "outputs": [
                {
                    "output_type": "stream",
                    "name": "stdout",
                    "text": "Recognized generator function.\n"
                }
            ],
            "execution_count": 25
        },
        {
            "source": "ai_function_uid = client.repository.get_function_uid(function_details)\nprint(ai_function_uid)",
            "cell_type": "code",
            "metadata": {},
            "outputs": [
                {
                    "output_type": "stream",
                    "name": "stdout",
                    "text": "6df12de6-763f-46cb-8388-eca249fa2da7\n"
                }
            ],
            "execution_count": 26
        },
        {
            "source": "<a id=\"deploy\"></a>\n## 4. Deploy AI function",
            "cell_type": "markdown",
            "metadata": {}
        },
        {
            "source": "In this section we deploy AI function in the IBM Cloud and test created deployment using sample payload.",
            "cell_type": "markdown",
            "metadata": {}
        },
        {
            "source": "function_deployment_details = client.deployments.create(ai_function_uid, \"CARS4U - Business area and Action Prediction - AI Function Deployment\")",
            "cell_type": "code",
            "metadata": {},
            "outputs": [
                {
                    "output_type": "stream",
                    "name": "stdout",
                    "text": "\n\n#######################################################################################\n\nSynchronous deployment creation for uid: '6df12de6-763f-46cb-8388-eca249fa2da7' started\n\n#######################################################################################\n\n\nINITIALIZING\nDEPLOY_IN_PROGRESS....\nDEPLOY_SUCCESS\n\n\n------------------------------------------------------------------------------------------------\nSuccessfully finished deployment creation, deployment_uid='1d668efc-5c1a-44da-9e69-248b2f65924a'\n------------------------------------------------------------------------------------------------\n\n\n"
                }
            ],
            "execution_count": 27
        },
        {
            "source": "### AI function online deployment test\n\nNow we are ready to test created deployment.",
            "cell_type": "markdown",
            "metadata": {}
        },
        {
            "source": "scoring_url = client.deployments.get_scoring_url(function_deployment_details)",
            "cell_type": "code",
            "metadata": {},
            "outputs": [],
            "execution_count": 28
        },
        {
            "source": "scoring_results = client.deployments.score(scoring_url, sample_payload)\nprint(scoring_results)",
            "cell_type": "code",
            "metadata": {},
            "outputs": [
                {
                    "output_type": "stream",
                    "name": "stdout",
                    "text": "{'fields': ['ID', 'Gender', 'Status', 'Children', 'Age', 'Customer_Status', 'Car_Owner', 'Customer_Service', 'Satisfaction', 'Probability_Area', 'Prediction_Area', 'Probability_Action', 'Prediction_Action'], 'values': [[2624, 'Male', 'S', 0, 49.27, 'Active', 'No', \"Good experience with all the rental co.'s I contacted. I Just called with rental dates and received pricing and selected rental co.\", 1, [0.3923076923076923, 0.3153846153846154, 0.046153846153846156, 0.06923076923076923, 0.05384615384615385, 0.06153846153846154, 0.038461538461538464, 0.023076923076923078], 'Service: Knowledge', [1.0, 0.0, 0.0, 0.0, 0.0], 'NA']]}\n"
                }
            ],
            "execution_count": 29
        },
        {
            "source": "---",
            "cell_type": "markdown",
            "metadata": {}
        }
    ],
    "metadata": {
        "kernelspec": {
            "display_name": "Python 3.5",
            "name": "python3",
            "language": "python"
        },
        "language_info": {
            "mimetype": "text/x-python",
            "nbconvert_exporter": "python",
            "version": "3.5.5",
            "name": "python",
            "pygments_lexer": "ipython3",
            "file_extension": ".py",
            "codemirror_mode": {
                "version": 3,
                "name": "ipython"
            }
        }
    },
    "nbformat": 4
}
