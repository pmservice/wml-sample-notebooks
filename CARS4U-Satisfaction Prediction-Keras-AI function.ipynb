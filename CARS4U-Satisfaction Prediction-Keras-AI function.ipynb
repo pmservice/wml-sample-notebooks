{
    "nbformat_minor": 1,
    "cells": [
        {
            "source": "<table style=\"border: none\" align=\"left\">\n    <tr style=\"border: none\">\n       <th style=\"border: none\"><img src=\"https://raw.githubusercontent.com/pmservice/cars-4-you/master/static/images/logo.png\" width=\"200\" alt=\"Icon\"></th>\n       <th style=\"border: none\"><font face=\"verdana\" size=\"5\" color=\"black\"><b>Customer Satisfaction Prediction</b></th>\n   </tr>\n</table>",
            "cell_type": "markdown",
            "metadata": {}
        },
        {
            "source": "<img align=left src=\"https://github.com/pmservice/cars-4-you/raw/master/static/images/ai_function.png\" alt=\"Icon\" width=\"664\">",
            "cell_type": "markdown",
            "metadata": {}
        },
        {
            "source": "Keras model and AI function to determine if comment is a complain.",
            "cell_type": "markdown",
            "metadata": {}
        },
        {
            "source": "Contents\n\n- [0. Setup](#setup)\n- [1. Introduction](#introduction)\n- [2. Load and explore data](#load)\n- [3. Create Keras model using TensorFlow backend](#model)\n- [4. Store the model in the repository](#persistence)\n- [5. Deploy the model](#deployment)\n- [6. AI function](#ai_function)",
            "cell_type": "markdown",
            "metadata": {}
        },
        {
            "source": "<a id=\"setup\"></a>\n## 0. Setup",
            "cell_type": "markdown",
            "metadata": {}
        },
        {
            "source": "Install TensorFlow version 1.5 and newest version of watson-machine-learning-client.",
            "cell_type": "markdown",
            "metadata": {}
        },
        {
            "source": "!pip install --upgrade tensorflow==1.5",
            "cell_type": "code",
            "metadata": {},
            "outputs": [
                {
                    "output_type": "stream",
                    "name": "stdout",
                    "text": "Requirement already up-to-date: tensorflow==1.5 in /opt/conda/envs/DSX-Python35/lib/python3.5/site-packages\nRequirement not upgraded as not directly required: tensorflow-tensorboard<1.6.0,>=1.5.0 in /opt/conda/envs/DSX-Python35/lib/python3.5/site-packages (from tensorflow==1.5)\nRequirement not upgraded as not directly required: six>=1.10.0 in /opt/conda/envs/DSX-Python35/lib/python3.5/site-packages (from tensorflow==1.5)\nRequirement not upgraded as not directly required: wheel>=0.26 in /opt/conda/envs/DSX-Python35/lib/python3.5/site-packages (from tensorflow==1.5)\nRequirement not upgraded as not directly required: protobuf>=3.4.0 in /opt/conda/envs/DSX-Python35/lib/python3.5/site-packages (from tensorflow==1.5)\nRequirement not upgraded as not directly required: numpy>=1.12.1 in /opt/conda/envs/DSX-Python35/lib/python3.5/site-packages (from tensorflow==1.5)\nRequirement not upgraded as not directly required: absl-py>=0.1.6 in /opt/conda/envs/DSX-Python35/lib/python3.5/site-packages (from tensorflow==1.5)\nRequirement not upgraded as not directly required: markdown>=2.6.8 in /opt/conda/envs/DSX-Python35/lib/python3.5/site-packages (from tensorflow-tensorboard<1.6.0,>=1.5.0->tensorflow==1.5)\nRequirement not upgraded as not directly required: werkzeug>=0.11.10 in /opt/conda/envs/DSX-Python35/lib/python3.5/site-packages (from tensorflow-tensorboard<1.6.0,>=1.5.0->tensorflow==1.5)\nRequirement not upgraded as not directly required: html5lib==0.9999999 in /opt/conda/envs/DSX-Python35/lib/python3.5/site-packages (from tensorflow-tensorboard<1.6.0,>=1.5.0->tensorflow==1.5)\nRequirement not upgraded as not directly required: bleach==1.5.0 in /opt/conda/envs/DSX-Python35/lib/python3.5/site-packages (from tensorflow-tensorboard<1.6.0,>=1.5.0->tensorflow==1.5)\nRequirement not upgraded as not directly required: setuptools in /opt/conda/envs/DSX-Python35/lib/python3.5/site-packages (from protobuf>=3.4.0->tensorflow==1.5)\n"
                }
            ],
            "execution_count": 30
        },
        {
            "source": "!rm -rf $PIP_BUILD/watson-machine-learning-client\n!pip install --upgrade watson-machine-learning-client==1.0.277",
            "cell_type": "code",
            "metadata": {},
            "outputs": [
                {
                    "output_type": "stream",
                    "name": "stdout",
                    "text": "Requirement already up-to-date: watson-machine-learning-client in /opt/conda/envs/DSX-Python35/lib/python3.5/site-packages\nRequirement not upgraded as not directly required: pandas in /opt/conda/envs/DSX-Python35/lib/python3.5/site-packages (from watson-machine-learning-client)\nRequirement not upgraded as not directly required: tabulate in /opt/conda/envs/DSX-Python35/lib/python3.5/site-packages (from watson-machine-learning-client)\nRequirement not upgraded as not directly required: lomond in /opt/conda/envs/DSX-Python35/lib/python3.5/site-packages (from watson-machine-learning-client)\nRequirement not upgraded as not directly required: urllib3 in /opt/conda/envs/DSX-Python35/lib/python3.5/site-packages (from watson-machine-learning-client)\nRequirement not upgraded as not directly required: tqdm in /opt/conda/envs/DSX-Python35/lib/python3.5/site-packages (from watson-machine-learning-client)\nRequirement not upgraded as not directly required: requests in /opt/conda/envs/DSX-Python35/lib/python3.5/site-packages (from watson-machine-learning-client)\nRequirement not upgraded as not directly required: certifi in /opt/conda/envs/DSX-Python35/lib/python3.5/site-packages (from watson-machine-learning-client)\nRequirement not upgraded as not directly required: ibm-cos-sdk in /opt/conda/envs/DSX-Python35/lib/python3.5/site-packages (from watson-machine-learning-client)\nRequirement not upgraded as not directly required: python-dateutil>=2 in /opt/conda/envs/DSX-Python35/lib/python3.5/site-packages (from pandas->watson-machine-learning-client)\nRequirement not upgraded as not directly required: pytz>=2011k in /opt/conda/envs/DSX-Python35/lib/python3.5/site-packages (from pandas->watson-machine-learning-client)\nRequirement not upgraded as not directly required: numpy>=1.9.0 in /opt/conda/envs/DSX-Python35/lib/python3.5/site-packages (from pandas->watson-machine-learning-client)\nRequirement not upgraded as not directly required: six>=1.10.0 in /opt/conda/envs/DSX-Python35/lib/python3.5/site-packages (from lomond->watson-machine-learning-client)\nRequirement not upgraded as not directly required: chardet<3.1.0,>=3.0.2 in /opt/conda/envs/DSX-Python35/lib/python3.5/site-packages (from requests->watson-machine-learning-client)\nRequirement not upgraded as not directly required: idna<2.7,>=2.5 in /opt/conda/envs/DSX-Python35/lib/python3.5/site-packages (from requests->watson-machine-learning-client)\nRequirement not upgraded as not directly required: ibm-cos-sdk-s3transfer==2.*,>=2.0.0 in /opt/conda/envs/DSX-Python35/lib/python3.5/site-packages (from ibm-cos-sdk->watson-machine-learning-client)\nRequirement not upgraded as not directly required: ibm-cos-sdk-core==2.*,>=2.0.0 in /opt/conda/envs/DSX-Python35/lib/python3.5/site-packages (from ibm-cos-sdk->watson-machine-learning-client)\nRequirement not upgraded as not directly required: jmespath<1.0.0,>=0.7.1 in /opt/conda/envs/DSX-Python35/lib/python3.5/site-packages (from ibm-cos-sdk-core==2.*,>=2.0.0->ibm-cos-sdk->watson-machine-learning-client)\nRequirement not upgraded as not directly required: docutils>=0.10 in /opt/conda/envs/DSX-Python35/lib/python3.5/site-packages (from ibm-cos-sdk-core==2.*,>=2.0.0->ibm-cos-sdk->watson-machine-learning-client)\n"
                }
            ],
            "execution_count": 31
        },
        {
            "source": "<a id=\"introduction\"></a>\n## 1. Introduction",
            "cell_type": "markdown",
            "metadata": {}
        },
        {
            "source": "This notebook trains a **Keras** (TensorFlow) model to predict customer satisfaction based on provided feedback. Notebook also shows usage of **AI Function** for deep learning model data preprocessing required before model scoring.",
            "cell_type": "markdown",
            "metadata": {}
        },
        {
            "source": "<a id=\"load\"></a>\n## 2. Load and explore data",
            "cell_type": "markdown",
            "metadata": {}
        },
        {
            "source": "In this section the data is loaded as pandas dataframe.",
            "cell_type": "markdown",
            "metadata": {}
        },
        {
            "source": "\nfrom ibmdbpy import IdaDataBase, IdaDataFrame\n\n# @hidden_cell\n# This connection object is used to access your data and contains your credentials.\n# You might want to remove those credentials before you share your notebook.\nidadb_c166344e776040b39f477655199897f8 = IdaDataBase(dsn='DASHDB;Database=BLUDB;Hostname=dashdb-entry-yp-dal10-01.services.dal.bluemix.net;Port=50000;PROTOCOL=TCPIP;UID=dash5120;PWD=G5_CehiL4_Ux')\n\ndata_df = IdaDataFrame(idadb_c166344e776040b39f477655199897f8, 'DASH5120.CAR_RENTAL_TRAINING').as_dataframe()\ndata_df.head()\n\n# You can close the database connection with the following code. Please keep the comment line with the @hidden_cell tag,\n# because the close function displays parts of the credentials.\n# @hidden_cell\n# idadb_c166344e776040b39f477655199897f8.close()\n# To learn more about the ibmdby package, please read the documentation: http://pythonhosted.org/ibmdbpy/\n",
            "cell_type": "code",
            "metadata": {},
            "outputs": [
                {
                    "output_type": "execute_result",
                    "data": {
                        "text/html": "<div>\n<style scoped>\n    .dataframe tbody tr th:only-of-type {\n        vertical-align: middle;\n    }\n\n    .dataframe tbody tr th {\n        vertical-align: top;\n    }\n\n    .dataframe thead th {\n        text-align: right;\n    }\n</style>\n<table border=\"1\" class=\"dataframe\">\n  <thead>\n    <tr style=\"text-align: right;\">\n      <th></th>\n      <th>ID</th>\n      <th>Gender</th>\n      <th>Status</th>\n      <th>Children</th>\n      <th>Age</th>\n      <th>Customer_Status</th>\n      <th>Car_Owner</th>\n      <th>Customer_Service</th>\n      <th>Satisfaction</th>\n      <th>Business_Area</th>\n      <th>Action</th>\n    </tr>\n  </thead>\n  <tbody>\n    <tr>\n      <th>0</th>\n      <td>74</td>\n      <td>Male</td>\n      <td>M</td>\n      <td>1</td>\n      <td>26.26</td>\n      <td>Active</td>\n      <td>No</td>\n      <td>no wait for pick up and drop off was great, he...</td>\n      <td>1</td>\n      <td>Product: Information</td>\n      <td>NA</td>\n    </tr>\n    <tr>\n      <th>1</th>\n      <td>83</td>\n      <td>Female</td>\n      <td>M</td>\n      <td>2</td>\n      <td>48.85</td>\n      <td>Inactive</td>\n      <td>Yes</td>\n      <td>I thought the representative handled the initi...</td>\n      <td>0</td>\n      <td>Product: Availability/Variety/Size</td>\n      <td>Free Upgrade</td>\n    </tr>\n    <tr>\n      <th>2</th>\n      <td>140</td>\n      <td>Female</td>\n      <td>S</td>\n      <td>0</td>\n      <td>36.92</td>\n      <td>Inactive</td>\n      <td>No</td>\n      <td>Everyone was very cooperative.  The auto was r...</td>\n      <td>1</td>\n      <td>Product: Functioning</td>\n      <td>NA</td>\n    </tr>\n    <tr>\n      <th>3</th>\n      <td>191</td>\n      <td>Male</td>\n      <td>M</td>\n      <td>0</td>\n      <td>45.51</td>\n      <td>Inactive</td>\n      <td>Yes</td>\n      <td>what customer service? It was a nightmare</td>\n      <td>0</td>\n      <td>Service: Knowledge</td>\n      <td>Voucher</td>\n    </tr>\n    <tr>\n      <th>4</th>\n      <td>239</td>\n      <td>Male</td>\n      <td>M</td>\n      <td>1</td>\n      <td>46.00</td>\n      <td>Inactive</td>\n      <td>Yes</td>\n      <td>They did not have the auto I wanted.  upgraded...</td>\n      <td>0</td>\n      <td>Product: Availability/Variety/Size</td>\n      <td>Free Upgrade</td>\n    </tr>\n  </tbody>\n</table>\n</div>",
                        "text/plain": "    ID  Gender Status  Children    Age Customer_Status Car_Owner  \\\n0   74    Male      M         1  26.26          Active        No   \n1   83  Female      M         2  48.85        Inactive       Yes   \n2  140  Female      S         0  36.92        Inactive        No   \n3  191    Male      M         0  45.51        Inactive       Yes   \n4  239    Male      M         1  46.00        Inactive       Yes   \n\n                                    Customer_Service  Satisfaction  \\\n0  no wait for pick up and drop off was great, he...             1   \n1  I thought the representative handled the initi...             0   \n2  Everyone was very cooperative.  The auto was r...             1   \n3          what customer service? It was a nightmare             0   \n4  They did not have the auto I wanted.  upgraded...             0   \n\n                        Business_Area        Action  \n0                Product: Information            NA  \n1  Product: Availability/Variety/Size  Free Upgrade  \n2                Product: Functioning            NA  \n3                  Service: Knowledge       Voucher  \n4  Product: Availability/Variety/Size  Free Upgrade  "
                    },
                    "execution_count": 69,
                    "metadata": {}
                }
            ],
            "execution_count": 69
        },
        {
            "source": "**Note:** 0 - not satisfied, 1 - satisfied",
            "cell_type": "markdown",
            "metadata": {}
        },
        {
            "source": "Extract needed columns and count number of records.",
            "cell_type": "markdown",
            "metadata": {}
        },
        {
            "source": "complain_data = data_df[['Customer_Service', 'Satisfaction']]",
            "cell_type": "code",
            "metadata": {},
            "outputs": [],
            "execution_count": 70
        },
        {
            "source": "print(complain_data.count())",
            "cell_type": "code",
            "metadata": {},
            "outputs": [
                {
                    "output_type": "stream",
                    "name": "stdout",
                    "text": "Customer_Service    482\nSatisfaction        482\ndtype: int64\n"
                }
            ],
            "execution_count": 71
        },
        {
            "source": "<a id=\"model\"></a>\n## 3. Create Keras model using TensorFlow backend\n",
            "cell_type": "markdown",
            "metadata": {}
        },
        {
            "source": "from keras.preprocessing.text import Tokenizer\nfrom keras.preprocessing.sequence import pad_sequences\nfrom keras.models import Sequential\nfrom keras.layers import Dense, Embedding, LSTM, SpatialDropout1D\nfrom sklearn.model_selection import train_test_split\nimport os\nimport numpy\nfrom keras.models import Sequential\nfrom keras.layers.convolutional import Conv1D, MaxPooling1D\nfrom keras.layers.embeddings import Embedding\nfrom keras.preprocessing import sequence",
            "cell_type": "code",
            "metadata": {},
            "outputs": [],
            "execution_count": 223
        },
        {
            "source": "### 3.1 Prepare data",
            "cell_type": "markdown",
            "metadata": {}
        },
        {
            "source": "max_fatures = 500\n\nfor idx,row in complain_data.iterrows():\n    row[0] = row[0].replace('rt',' ')\n\ntokenizer = Tokenizer(num_words=max_fatures, split=' ')\ntokenizer.fit_on_texts(complain_data['Customer_Service'].values)\nX = tokenizer.texts_to_sequences(complain_data['Customer_Service'].values)\n\nmaxlen = 50\n\nX = pad_sequences(X, maxlen=maxlen)\nprint(X.shape)",
            "cell_type": "code",
            "metadata": {},
            "outputs": [
                {
                    "output_type": "stream",
                    "name": "stdout",
                    "text": "(482, 50)\n"
                }
            ],
            "execution_count": 190
        },
        {
            "source": "Split into train and test datasets.",
            "cell_type": "markdown",
            "metadata": {}
        },
        {
            "source": "Y = complain_data['Satisfaction'].values\nX_train, X_test, Y_train, Y_test = train_test_split(X,Y, test_size = 0.33, random_state = 42)\n\nprint(X_train.shape,Y_train.shape)\nprint(X_test.shape,Y_test.shape)",
            "cell_type": "code",
            "metadata": {},
            "outputs": [
                {
                    "output_type": "stream",
                    "name": "stdout",
                    "text": "(322, 50) (322,)\n(160, 50) (160,)\n"
                }
            ],
            "execution_count": 191
        },
        {
            "source": "### 3.2 Design and train model",
            "cell_type": "markdown",
            "metadata": {}
        },
        {
            "source": "Create the network definition based on Gated Recurrent Unit (Cho et al. 2014).",
            "cell_type": "markdown",
            "metadata": {}
        },
        {
            "source": "embedding_vector_length = 32\n\nmodel = Sequential()\nmodel.add(Embedding(max_fatures, embedding_vector_length, input_length=maxlen))\nmodel.add(Conv1D(filters=32, kernel_size=3, padding='same', activation='relu'))\nmodel.add(MaxPooling1D(pool_size=2))\nmodel.add(LSTM(100))\nmodel.add(Dense(1, activation='sigmoid'))\nmodel.compile(loss='binary_crossentropy', optimizer='adam', metrics=['accuracy'])\nprint(model.summary())",
            "cell_type": "code",
            "metadata": {},
            "outputs": [
                {
                    "output_type": "stream",
                    "name": "stdout",
                    "text": "_________________________________________________________________\nLayer (type)                 Output Shape              Param #   \n=================================================================\nembedding_3 (Embedding)      (None, 50, 32)            16000     \n_________________________________________________________________\nconv1d_3 (Conv1D)            (None, 50, 32)            3104      \n_________________________________________________________________\nmax_pooling1d_3 (MaxPooling1 (None, 25, 32)            0         \n_________________________________________________________________\nlstm_3 (LSTM)                (None, 100)               53200     \n_________________________________________________________________\ndense_3 (Dense)              (None, 1)                 101       \n=================================================================\nTotal params: 72,405\nTrainable params: 72,405\nNon-trainable params: 0\n_________________________________________________________________\nNone\n"
                }
            ],
            "execution_count": 75
        },
        {
            "source": "Train the model.",
            "cell_type": "markdown",
            "metadata": {}
        },
        {
            "source": "history = model.fit(X_train, Y_train, validation_data=(X_test, Y_test), epochs=20, batch_size=64)",
            "cell_type": "code",
            "metadata": {},
            "outputs": [
                {
                    "output_type": "stream",
                    "name": "stdout",
                    "text": "Train on 322 samples, validate on 160 samples\nEpoch 1/20\n322/322 [==============================] - 2s 5ms/step - loss: 0.6895 - acc: 0.5807 - val_loss: 0.6856 - val_acc: 0.5500\nEpoch 2/20\n322/322 [==============================] - 1s 3ms/step - loss: 0.6764 - acc: 0.5776 - val_loss: 0.6793 - val_acc: 0.5500\nEpoch 3/20\n322/322 [==============================] - 1s 3ms/step - loss: 0.6632 - acc: 0.5776 - val_loss: 0.6708 - val_acc: 0.5500\nEpoch 4/20\n322/322 [==============================] - 1s 3ms/step - loss: 0.6514 - acc: 0.5776 - val_loss: 0.6561 - val_acc: 0.5500\nEpoch 5/20\n322/322 [==============================] - 1s 3ms/step - loss: 0.6335 - acc: 0.6708 - val_loss: 0.6326 - val_acc: 0.6875\nEpoch 6/20\n322/322 [==============================] - 1s 3ms/step - loss: 0.5894 - acc: 0.7391 - val_loss: 0.5967 - val_acc: 0.6438\nEpoch 7/20\n322/322 [==============================] - 1s 3ms/step - loss: 0.5129 - acc: 0.7919 - val_loss: 0.5280 - val_acc: 0.7688\nEpoch 8/20\n322/322 [==============================] - 1s 3ms/step - loss: 0.4668 - acc: 0.8789 - val_loss: 0.4603 - val_acc: 0.8375\nEpoch 9/20\n322/322 [==============================] - 1s 3ms/step - loss: 0.3542 - acc: 0.8727 - val_loss: 0.3710 - val_acc: 0.8187\nEpoch 10/20\n322/322 [==============================] - 1s 3ms/step - loss: 0.2457 - acc: 0.9317 - val_loss: 0.3301 - val_acc: 0.8688\nEpoch 11/20\n322/322 [==============================] - 1s 3ms/step - loss: 0.1854 - acc: 0.9627 - val_loss: 0.2704 - val_acc: 0.9250\nEpoch 12/20\n322/322 [==============================] - 1s 3ms/step - loss: 0.1461 - acc: 0.9348 - val_loss: 0.2620 - val_acc: 0.9062\nEpoch 13/20\n322/322 [==============================] - 1s 3ms/step - loss: 0.1228 - acc: 0.9752 - val_loss: 0.2704 - val_acc: 0.9125\nEpoch 14/20\n322/322 [==============================] - 1s 3ms/step - loss: 0.1033 - acc: 0.9752 - val_loss: 0.2462 - val_acc: 0.9250\nEpoch 15/20\n322/322 [==============================] - 1s 3ms/step - loss: 0.0815 - acc: 0.9783 - val_loss: 0.2297 - val_acc: 0.9250\nEpoch 16/20\n322/322 [==============================] - 1s 3ms/step - loss: 0.0640 - acc: 0.9876 - val_loss: 0.3215 - val_acc: 0.9125\nEpoch 17/20\n322/322 [==============================] - 1s 3ms/step - loss: 0.1232 - acc: 0.9752 - val_loss: 0.6927 - val_acc: 0.8375\nEpoch 18/20\n322/322 [==============================] - 1s 3ms/step - loss: 0.1275 - acc: 0.9658 - val_loss: 0.2533 - val_acc: 0.9313\nEpoch 19/20\n322/322 [==============================] - 1s 3ms/step - loss: 0.0690 - acc: 0.9876 - val_loss: 0.2262 - val_acc: 0.9125\nEpoch 20/20\n322/322 [==============================] - 1s 3ms/step - loss: 0.0480 - acc: 0.9876 - val_loss: 0.2266 - val_acc: 0.9125\n"
                }
            ],
            "execution_count": 76
        },
        {
            "source": "print(\"Best accuracy on test: %3.3f\" % numpy.array(history.history['val_acc']).max())",
            "cell_type": "code",
            "metadata": {},
            "outputs": [
                {
                    "output_type": "stream",
                    "name": "stdout",
                    "text": "Best accuracy on test: 0.931\n"
                }
            ],
            "execution_count": 78
        },
        {
            "source": "**Note:** For purpose of this demo model tuning has been skipped.",
            "cell_type": "markdown",
            "metadata": {}
        },
        {
            "source": "Store and archive the model on notebook filesystem.",
            "cell_type": "markdown",
            "metadata": {}
        },
        {
            "source": "# evaluate the model\nscores = model.evaluate(X_test, Y_test, verbose=0)\nprint(\"Evaluation Accuracy: %.2f%%\" % (scores[1]*100))",
            "cell_type": "code",
            "metadata": {},
            "outputs": [
                {
                    "output_type": "stream",
                    "name": "stdout",
                    "text": "Evaluation Accuracy: 91.25%\n"
                }
            ],
            "execution_count": 79
        },
        {
            "source": "filename = 'complain_model.h5'\nmodel.save(filename)\n\n#compress keras model\ntar_filename = filename + \".tgz\"\ncmdstring = \"tar -zcvf \" + tar_filename + \" \" + filename\nos.system(cmdstring);",
            "cell_type": "code",
            "metadata": {},
            "outputs": [],
            "execution_count": 80
        },
        {
            "source": "!ls -lat",
            "cell_type": "code",
            "metadata": {},
            "outputs": [
                {
                    "output_type": "stream",
                    "name": "stdout",
                    "text": "total 1692\r\n-rw-r----- 1 dsxuser dsxuser 818583 Jul 24 09:49 complain_model.h5.tgz\r\n-rw-r----- 1 dsxuser dsxuser 903992 Jul 24 09:49 complain_model.h5\r\ndrwxr-x--- 2 dsxuser dsxuser   4096 Jul 24 08:51 .\r\ndrwx------ 1 dsxuser dsxuser   4096 Jul 24 07:27 ..\r\n"
                }
            ],
            "execution_count": 81
        },
        {
            "source": "<a id=\"persistence\"></a>\n## 4. Store the model in the repository",
            "cell_type": "markdown",
            "metadata": {}
        },
        {
            "source": "from watson_machine_learning_client import WatsonMachineLearningAPIClient",
            "cell_type": "code",
            "metadata": {},
            "outputs": [],
            "execution_count": 82
        },
        {
            "source": "# @hidden_cell\n\nwml_credentials = {\n  \"instance_id\": \"000263d8-04e0-4060-ad69-fcfe40069018\",\n  \"password\": \"7419325b-3de4-476c-94cb-4b158fa335b0\",\n  \"url\": \"https://us-south.ml.cloud.ibm.com\",\n  \"username\": \"cdc4b5da-8380-42f1-bd82-da044b283959\"\n}\n",
            "cell_type": "code",
            "metadata": {},
            "outputs": [],
            "execution_count": 83
        },
        {
            "source": "client = WatsonMachineLearningAPIClient(wml_credentials)",
            "cell_type": "code",
            "metadata": {},
            "outputs": [],
            "execution_count": 84
        },
        {
            "source": "model_props = {\n    client.repository.ModelMetaNames.NAME: \"CARS4U - Satisfaction Prediction Model\",\n    client.repository.ModelMetaNames.FRAMEWORK_NAME: \"tensorflow\",\n    client.repository.ModelMetaNames.FRAMEWORK_VERSION: \"1.5\",\n    client.repository.ModelMetaNames.RUNTIME_NAME: \"python\",\n    client.repository.ModelMetaNames.RUNTIME_VERSION: \"3.5\",\n    client.repository.ModelMetaNames.FRAMEWORK_LIBRARIES: [{'name':'keras', 'version': '2.1.3'}]\n}\n\npublished_model_details = client.repository.store_model(model=tar_filename, meta_props=model_props)       ",
            "cell_type": "code",
            "metadata": {},
            "outputs": [],
            "execution_count": 85
        },
        {
            "source": "model_uid = client.repository.get_model_uid(published_model_details)\nprint(model_uid)",
            "cell_type": "code",
            "metadata": {},
            "outputs": [
                {
                    "output_type": "stream",
                    "name": "stdout",
                    "text": "0b282150-0db3-407d-ac32-84500b262341\n"
                }
            ],
            "execution_count": 86
        },
        {
            "source": "<a id=\"deployment\"></a>\n## 5. Deploy the model",
            "cell_type": "markdown",
            "metadata": {}
        },
        {
            "source": "### 5.1 Create deployment",
            "cell_type": "markdown",
            "metadata": {}
        },
        {
            "source": "deployment = client.deployments.create(model_uid, 'CARS4U - Satisfaction Prediction Model Deployment')",
            "cell_type": "code",
            "metadata": {},
            "outputs": [
                {
                    "output_type": "stream",
                    "name": "stdout",
                    "text": "\n\n#######################################################################################\n\nSynchronous deployment creation for uid: '0b282150-0db3-407d-ac32-84500b262341' started\n\n#######################################################################################\n\n\nINITIALIZING\nDEPLOY_IN_PROGRESS..\nDEPLOY_SUCCESS\n\n\n------------------------------------------------------------------------------------------------\nSuccessfully finished deployment creation, deployment_uid='726e333a-73a2-4720-b249-3be832903b4e'\n------------------------------------------------------------------------------------------------\n\n\n"
                }
            ],
            "execution_count": 87
        },
        {
            "source": "client.deployments.list()",
            "cell_type": "code",
            "metadata": {},
            "outputs": [
                {
                    "output_type": "stream",
                    "name": "stdout",
                    "text": "------------------------------------  --------------------------------------------------  ------  --------------  ------------------------  --------------  ----------\nGUID                                  NAME                                                TYPE    STATE           CREATED                   FRAMEWORK       ASSET TYPE\n726e333a-73a2-4720-b249-3be832903b4e  CARS4U - Satisfaction Prediction Model Deployment   online  DEPLOY_SUCCESS  2018-07-24T09:49:11.282Z  tensorflow-1.5  model\nb344d58c-590d-4a93-a007-23693947ce31  CARS4U - Business Area Prediction Model Deployment  online  DEPLOY_SUCCESS  2018-07-24T09:47:40.251Z  mllib-2.1       model\n584a3b49-7b3c-4663-8b6f-6a433c041b1d  CARS4U - Satisfaction Prediction Model Deployment   online  DEPLOY_SUCCESS  2018-07-24T09:46:21.374Z  tensorflow-1.5  model\nf9cabb53-a6fd-426a-a678-6091566d2b3a  CARS4U - Action Model Deployment                    online  DEPLOY_SUCCESS  2018-07-23T18:59:52.145Z  mllib-2.1       model\n------------------------------------  --------------------------------------------------  ------  --------------  ------------------------  --------------  ----------\n"
                }
            ],
            "execution_count": 88
        },
        {
            "source": "### 5.2 Score the model",
            "cell_type": "markdown",
            "metadata": {}
        },
        {
            "source": "Let's see if our deployment works.",
            "cell_type": "markdown",
            "metadata": {}
        },
        {
            "source": "scoring_endpoint = client.deployments.get_scoring_url(deployment)",
            "cell_type": "code",
            "metadata": {},
            "outputs": [],
            "execution_count": 89
        },
        {
            "source": "print(scoring_endpoint)",
            "cell_type": "code",
            "metadata": {},
            "outputs": [
                {
                    "output_type": "stream",
                    "name": "stdout",
                    "text": "https://us-south.ml.cloud.ibm.com/v3/wml_instances/000263d8-04e0-4060-ad69-fcfe40069018/deployments/726e333a-73a2-4720-b249-3be832903b4e/online\n"
                }
            ],
            "execution_count": 90
        },
        {
            "source": "index = 5\n\nscoring_data = X[index].tolist()\nprint(X_test[index])\nprint(Y_test[index])",
            "cell_type": "code",
            "metadata": {},
            "outputs": [
                {
                    "output_type": "stream",
                    "name": "stdout",
                    "text": "[  0   0   0   0   0   0   0   0   0   0   0   0   0   0   0   0   0   0\n   0   0   0   0   0   0   0   0   0   0   0   0   0   0   0   0   0   0\n   0   0   0   0   0   0   0  40 107 131  19   1  22  77]\n0\n"
                }
            ],
            "execution_count": 324
        },
        {
            "source": "scoring_payload = {'values': [scoring_data]}\nscores = client.deployments.score(scoring_endpoint, scoring_payload)",
            "cell_type": "code",
            "metadata": {},
            "outputs": [],
            "execution_count": 325
        },
        {
            "source": "print(scoring_payload)",
            "cell_type": "code",
            "metadata": {},
            "outputs": [
                {
                    "output_type": "stream",
                    "name": "stdout",
                    "text": "{'values': [[0, 0, 0, 0, 0, 0, 0, 0, 0, 0, 0, 0, 0, 0, 0, 0, 0, 0, 0, 0, 0, 0, 0, 0, 0, 0, 0, 0, 0, 0, 0, 0, 0, 0, 0, 0, 0, 0, 0, 0, 0, 0, 266, 138, 139, 267, 207, 115, 12, 8]]}\n"
                }
            ],
            "execution_count": 327
        },
        {
            "source": "len(scoring_payload['values'][0])",
            "cell_type": "code",
            "metadata": {},
            "outputs": [
                {
                    "output_type": "execute_result",
                    "data": {
                        "text/plain": "50"
                    },
                    "execution_count": 330,
                    "metadata": {}
                }
            ],
            "execution_count": 330
        },
        {
            "source": "print({'values': [[0, 0, 0, 0, 0, 0, 0, 0, 0, 0, 0, 0, 0, 0, 0, 0, 0, 0, 0, 0, 0, 0, 0, 0, 0, 0, 0, 0, 0, 0, 0, 0, 0, 0, 0, 0, 0, 0, 0, 0, 0, 0, 266, 138, 139, 267, 207, 115, 12, 8], [0, 0, 0, 0, 0, 0, 0, 0, 0, 0, 0, 0, 0, 0, 0, 0, 0, 0, 0, 0, 0, 0, 0, 0, 0, 0, 0, 0, 0, 0, 0, 0, 10, 2, 78, 5, 7, 13, 122, 3, 109, 51, 0, 0, 58, 15, 808, 31, 7, 23]]})",
            "cell_type": "code",
            "metadata": {},
            "outputs": [
                {
                    "output_type": "stream",
                    "name": "stdout",
                    "text": "{'values': [[0, 0, 0, 0, 0, 0, 0, 0, 0, 0, 0, 0, 0, 0, 0, 0, 0, 0, 0, 0, 0, 0, 0, 0, 0, 0, 0, 0, 0, 0, 0, 0, 0, 0, 0, 0, 0, 0, 0, 0, 0, 0, 266, 138, 139, 267, 207, 115, 12, 8], [0, 0, 0, 0, 0, 0, 0, 0, 0, 0, 0, 0, 0, 0, 0, 0, 0, 0, 0, 0, 0, 0, 0, 0, 0, 0, 0, 0, 0, 0, 0, 0, 10, 2, 78, 5, 7, 13, 122, 3, 109, 51, 0, 0, 58, 15, 808, 31, 7, 23]]}\n"
                }
            ],
            "execution_count": 329
        },
        {
            "source": "Let's print scoring results.",
            "cell_type": "markdown",
            "metadata": {}
        },
        {
            "source": "print(str(scores))",
            "cell_type": "code",
            "metadata": {},
            "outputs": [
                {
                    "output_type": "stream",
                    "name": "stdout",
                    "text": "{'fields': ['prediction', 'prediction_classes', 'probability'], 'values': [[[0.008548633195459843], [0], [0.008548633195459843]]]}\n"
                }
            ],
            "execution_count": 326
        },
        {
            "source": "<a id=\"function\"></a>\n## 6. AI function",
            "cell_type": "markdown",
            "metadata": {}
        },
        {
            "source": "Let's define AI function that does data preprocessing and model scoring for us. As noticed above model expects numerical input, so the text comment needs to be preprocessed.",
            "cell_type": "markdown",
            "metadata": {}
        },
        {
            "source": "### 6.1 Definition",
            "cell_type": "markdown",
            "metadata": {}
        },
        {
            "source": "Define some generic parameters our function will use to score the model.",
            "cell_type": "markdown",
            "metadata": {}
        },
        {
            "source": "#### Parameters",
            "cell_type": "markdown",
            "metadata": {}
        },
        {
            "source": "ai_params = {\n    'scoring_endpoint': scoring_endpoint,\n    'wml_credentials': wml_credentials,\n    'word_index': tokenizer.word_index\n}",
            "cell_type": "code",
            "metadata": {},
            "outputs": [],
            "execution_count": 262
        },
        {
            "source": "#### Function",
            "cell_type": "markdown",
            "metadata": {}
        },
        {
            "source": "def score_generator(params=ai_params):\n\n    def score(payload):\n        import re\n        from watson_machine_learning_client import WatsonMachineLearningAPIClient\n        client = WatsonMachineLearningAPIClient(params['wml_credentials'])\n        \n        max_fatures = 500\n        maxlen = 50\n\n        preprocessed_records = []\n        complain_data = payload['values']\n        word_index = params['word_index']\n\n        for data in complain_data:\n            comment = data[0]\n            cleanString = re.sub(r\"[!\\\"#$%&()*+,-./:;<=>?@[\\]^_`{|}~]\", \"\", comment)\n            splitted_comment = cleanString.split()[:maxlen]\n            hashed_tokens = []\n\n            for token in splitted_comment:\n                index = word_index.get(token, 0)\n                if index < 501 and index > 0:\n                    hashed_tokens.append(index)\n\n            hashed_tokens_size = len(hashed_tokens)\n            padded_tokens = [0]*(maxlen-hashed_tokens_size) + hashed_tokens\n            preprocessed_records.append(padded_tokens)\n\n        scoring_payload = {'values': preprocessed_records}\n        print(str(scoring_payload))\n        \n        return client.deployments.score(params['scoring_endpoint'], scoring_payload)\n        \n        \n    return score",
            "cell_type": "code",
            "metadata": {},
            "outputs": [],
            "execution_count": 345
        },
        {
            "source": "#### Test locally",
            "cell_type": "markdown",
            "metadata": {}
        },
        {
            "source": "sample_data = {\n    'fields': ['feedback'],\n    'values': [\n        ['delayed shuttle, almost missed flight, bad customer service'],\n        ['The car was great and they were able to provide all features I wanted with limited time they had.']\n    ]\n}",
            "cell_type": "code",
            "metadata": {},
            "outputs": [],
            "execution_count": 346
        },
        {
            "source": "score = score_generator()\nscore(sample_data)",
            "cell_type": "code",
            "metadata": {},
            "outputs": [
                {
                    "output_type": "stream",
                    "name": "stdout",
                    "text": "{'values': [[0, 0, 0, 0, 0, 0, 0, 0, 0, 0, 0, 0, 0, 0, 0, 0, 0, 0, 0, 0, 0, 0, 0, 0, 0, 0, 0, 0, 0, 0, 0, 0, 0, 0, 0, 0, 0, 0, 0, 0, 0, 0, 266, 138, 139, 267, 207, 115, 12, 8], [0, 0, 0, 0, 0, 0, 0, 0, 0, 0, 0, 0, 0, 0, 0, 0, 0, 0, 0, 0, 0, 0, 0, 0, 0, 0, 0, 0, 0, 0, 0, 0, 0, 0, 0, 10, 2, 78, 5, 7, 13, 122, 3, 109, 51, 58, 15, 31, 7, 23]]}\n"
                },
                {
                    "output_type": "execute_result",
                    "data": {
                        "text/plain": "{'fields': ['prediction', 'prediction_classes', 'probability'],\n 'values': [[[0.008548641577363014], [0], [0.008548641577363014]],\n  [[0.9832062125205994], [1], [0.9832062125205994]]]}"
                    },
                    "execution_count": 347,
                    "metadata": {}
                }
            ],
            "execution_count": 347
        },
        {
            "source": "**Note:** 0 - not satisfied. 1 - satisfied",
            "cell_type": "markdown",
            "metadata": {}
        },
        {
            "source": "### 6.2 AI function storing",
            "cell_type": "markdown",
            "metadata": {}
        },
        {
            "source": "client.repository.FunctionMetaNames.show()",
            "cell_type": "code",
            "metadata": {},
            "outputs": [
                {
                    "output_type": "stream",
                    "name": "stdout",
                    "text": "------------------  ----  --------  -------------\nMETA_PROP NAME      TYPE  REQUIRED  DEFAULT_VALUE\nNAME                str   Y\nDESCRIPTION         str   N\nTYPE                str   N         python\nRUNTIME_URL         str   N\nINPUT_DATA_SCHEMA   dict  N\nOUTPUT_DATA_SCHEMA  dict  N\nTAGS                list  N\n------------------  ----  --------  -------------\n"
                }
            ],
            "execution_count": 350
        },
        {
            "source": "function_details = client.repository.store_function(score_generator, 'CARS4U - Sentiment Prediction - AI Function')",
            "cell_type": "code",
            "metadata": {},
            "outputs": [
                {
                    "output_type": "stream",
                    "name": "stdout",
                    "text": "Recognized generator function.\n"
                }
            ],
            "execution_count": 351
        },
        {
            "source": "client.repository.list_functions()",
            "cell_type": "code",
            "metadata": {},
            "outputs": [
                {
                    "output_type": "stream",
                    "name": "stdout",
                    "text": "------------------------------------  ----------------------------------------------------------  ------------------------  ------\nGUID                                  NAME                                                        CREATED                   TYPE\n34574059-255d-48fe-aa5c-74adc1309068  CARS4U - Sentiment Prediction - AI Function                 2018-07-24T14:49:49.064Z  python\n2c4fdde6-353e-4746-9058-ae3a377b868c  CARS4U - Business area and Action Prediction - AI Function  2018-07-24T13:48:30.139Z  python\n0a69ab8c-0a92-4625-8350-972d09d692b9  CARS4U - Sentiment Prediction - AI Function                 2018-07-24T13:41:43.298Z  python\n86a6d7d3-daac-479b-9580-3accf27a2ab6  CARS4U - Sentiment Prediction - AI Function                 2018-07-24T13:38:35.215Z  python\n8c1e531b-27ef-40ac-a316-54268230356c  CARS4U - Business area and Action Prediction - AI Function  2018-07-24T13:16:18.129Z  python\nf3d4a4d4-0166-4f21-b389-3cbeae467617  CARS4U - Business area and Action Prediction - AI Function  2018-07-24T13:10:29.331Z  python\nca8858e1-a87c-4440-99ff-74525f863473  CARS4U - Sentiment Prediction - AI Function                 2018-07-24T12:05:01.074Z  python\n1c362b5c-0824-4989-9892-e22fd202cbde  CARS4U - Sentiment Prediction - AI Function                 2018-07-24T11:50:58.352Z  python\na8136209-dd99-456c-a7b2-bcb9f77ef84c  CARS4U - Sentiment Prediction - AI Function                 2018-07-24T11:47:59.677Z  python\n------------------------------------  ----------------------------------------------------------  ------------------------  ------\n"
                }
            ],
            "execution_count": 352
        },
        {
            "source": "### 6.3 AI function deployment",
            "cell_type": "markdown",
            "metadata": {}
        },
        {
            "source": "function_uid = client.repository.get_function_uid(function_details)\n\nfunction_deployment_details = client.deployments.create(function_uid, name='CARS4U - Sentiment Prediction - AI Function Deployment')",
            "cell_type": "code",
            "metadata": {},
            "outputs": [
                {
                    "output_type": "stream",
                    "name": "stdout",
                    "text": "\n\n#######################################################################################\n\nSynchronous deployment creation for uid: '34574059-255d-48fe-aa5c-74adc1309068' started\n\n#######################################################################################\n\n\nINITIALIZING\nDEPLOY_IN_PROGRESS....\nDEPLOY_SUCCESS\n\n\n------------------------------------------------------------------------------------------------\nSuccessfully finished deployment creation, deployment_uid='aeb667ed-5070-4c88-b12f-333e1325d1ad'\n------------------------------------------------------------------------------------------------\n\n\n"
                }
            ],
            "execution_count": 353
        },
        {
            "source": "### Score AI function",
            "cell_type": "markdown",
            "metadata": {}
        },
        {
            "source": "ai_function_scoring_endpoint = client.deployments.get_scoring_url(function_deployment_details)\n\nprint(ai_function_scoring_endpoint)",
            "cell_type": "code",
            "metadata": {},
            "outputs": [
                {
                    "output_type": "stream",
                    "name": "stdout",
                    "text": "https://us-south.ml.cloud.ibm.com/v3/wml_instances/000263d8-04e0-4060-ad69-fcfe40069018/deployments/aeb667ed-5070-4c88-b12f-333e1325d1ad/online\n"
                }
            ],
            "execution_count": 354
        },
        {
            "source": "response = client.deployments.score(ai_function_scoring_endpoint, sample_data)",
            "cell_type": "code",
            "metadata": {},
            "outputs": [],
            "execution_count": 355
        },
        {
            "source": "print(response)",
            "cell_type": "code",
            "metadata": {},
            "outputs": [
                {
                    "output_type": "stream",
                    "name": "stdout",
                    "text": "{'fields': ['prediction', 'prediction_classes', 'probability'], 'values': [[[0.008548641577363014], [0], [0.008548641577363014]], [[0.9832062125205994], [1], [0.9832062125205994]]]}\n"
                }
            ],
            "execution_count": 356
        },
        {
            "source": "---\n",
            "cell_type": "markdown",
            "metadata": {}
        }
    ],
    "metadata": {
        "kernelspec": {
            "display_name": "Python 3.5",
            "name": "python3",
            "language": "python"
        },
        "language_info": {
            "mimetype": "text/x-python",
            "nbconvert_exporter": "python",
            "version": "3.5.5",
            "name": "python",
            "pygments_lexer": "ipython3",
            "file_extension": ".py",
            "codemirror_mode": {
                "version": 3,
                "name": "ipython"
            }
        }
    },
    "nbformat": 4
}
